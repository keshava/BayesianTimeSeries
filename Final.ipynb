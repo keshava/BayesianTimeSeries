{
 "cells": [
  {
   "cell_type": "code",
   "execution_count": 1,
   "metadata": {
    "collapsed": true
   },
   "outputs": [],
   "source": [
    "import pandas as pd\n",
    "import numpy as np\n",
    "from sklearn.neighbors import NearestNeighbors\n",
    "from sklearn.linear_model import LinearRegression, Ridge\n",
    "from sklearn import datasets as ds\n",
    "from tqdm import tqdm, tqdm_notebook\n",
    "import matplotlib.pyplot as plt\n",
    "%matplotlib inline"
   ]
  },
  {
   "cell_type": "code",
   "execution_count": 2,
   "metadata": {
    "collapsed": true
   },
   "outputs": [],
   "source": [
    "def gen_helix_data(n, dim):\n",
    "    t = 10 - np.random.rand(n) * 20\n",
    "    helix_data = pd.DataFrame([np.cos(t), np.sin(t), t]).T\n",
    "    return helix_data\n",
    "\n",
    "def gen_sphere_data(n, dim):\n",
    "    norm_x = np.random.randn(n,dim)\n",
    "    sphere_data = pd.DataFrame(norm_x/np.sqrt(np.sum(norm_x**2, axis=1))[:,None])\n",
    "    return sphere_data\n",
    "\n",
    "def gen_roll_data(n, dim):\n",
    "    roll_data = pd.DataFrame(ds.make_swiss_roll(n)[0])\n",
    "    return roll_data\n",
    "\n",
    "def gen_norm_data(n, dim):\n",
    "    norm_xyz = np.random.multivariate_normal(np.zeros(dim), np.identity(dim), n)\n",
    "    norm_data = pd.DataFrame(norm_xyz)\n",
    "    return norm_data\n",
    "\n",
    "def gen_uniform_data(n, dim):\n",
    "    uniform_xyz = np.random.uniform(size=(n, dim))\n",
    "    uniform_data = pd.DataFrame(uniform_xyz)\n",
    "    return uniform_data"
   ]
  },
  {
   "cell_type": "code",
   "execution_count": 6,
   "metadata": {
    "collapsed": true
   },
   "outputs": [],
   "source": [
    "def m_k_hat(x_center, k, data = None, knn_model = None):\n",
    "    if knn_model is None:\n",
    "        knn_model = NearestNeighbors(n_neighbors=k, algorithm='ball_tree').fit(data)\n",
    "    dist, ind = knn_model.kneighbors(x_center.reshape(1,-1))\n",
    "    d = np.log(dist[0,-1]/dist[0,:-1]).sum()/(k-2)\n",
    "    return 1./d,dist[0,-1]\n",
    "\n",
    "def bootstrap_m_hat(X, nb_iter=100, random_state=None, k1 = 3, k2 = 10):\n",
    "\n",
    "    if random_state is None:\n",
    "        rng = np.random\n",
    "    else:\n",
    "        rng = np.random.RandomState(random_state)\n",
    "    \n",
    "    nb_examples = X.shape[0]\n",
    "    \n",
    "    \n",
    "    Rs = []\n",
    "    dims = []\n",
    "\n",
    "    for i in range(nb_iter):\n",
    "        \n",
    "        ind_center = rng.randint(0, nb_examples - 1, size=1)\n",
    "        x_center = X.values[ind_center]\n",
    "        idx = np.unique(rng.randint(0, nb_examples - 1, size=nb_examples))\n",
    "        X_bootstrap = X.iloc[idx[idx != ind_center]]\n",
    "\n",
    "        for k in range(k1,k2+1):    \n",
    "            dim, R = m_k_hat(x_center, k, X_bootstrap)\n",
    "            dims.append(dim)\n",
    "            Rs.append(R)\n",
    "                \n",
    "    return np.array(Rs), np.array(dims)\n",
    "\n",
    "def reg_reg_reg(data):\n",
    "    \n",
    "    def _fit_poly_reg(fit_dim, fit_R, alpha=3):\n",
    "        fit_dim = np.array(fit_dim)\n",
    "        fit_R = np.array(fit_R)\n",
    "\n",
    "        fit_R_alpha = fit_R.reshape(-1, 1) ** alpha\n",
    "        lm = LinearRegression()\n",
    "        lm.fit(fit_R_alpha, fit_dim)\n",
    "\n",
    "        return lm.intercept_, lm.coef_[0]\n",
    "\n",
    "    \n",
    "    finalfinal = []\n",
    "\n",
    "    for i in range(10):\n",
    "        final = []\n",
    "        for i in range(10):\n",
    "\n",
    "            result = []\n",
    "            for i in range(10):\n",
    "                Rs, dims = bootstrap_m_hat(data, nb_iter=100)\n",
    "                fit_Rs = np.linspace(Rs.min(), Rs.max(), 10)\n",
    "                fit_dims = np.array([dims[(Rs >= r1) & (Rs <= r2)].mean() for r1, r2 \\\n",
    "                         in zip(fit_Rs, fit_Rs[1:].tolist() + [Rs.max() + 1])])\n",
    "                fit_dims[np.isnan(fit_dims) | np.isinf(fit_Rs)] = data.shape[1]\n",
    "                result.append([_fit_poly_reg(fit_dims, fit_Rs)[0], np.mean(fit_dims)])\n",
    "\n",
    "            final.append(np.mean(result, axis=0))\n",
    "        finalfinal.append(np.mean(final, axis=0))\n",
    "    return finalfinal"
   ]
  },
  {
   "cell_type": "code",
   "execution_count": 7,
   "metadata": {},
   "outputs": [
    {
     "data": {
      "application/vnd.jupyter.widget-view+json": {
       "model_id": "abf3759f34c64050bdeda5a43855ada4",
       "version_major": 2,
       "version_minor": 0
      },
      "text/plain": [
       "A Jupyter Widget"
      ]
     },
     "metadata": {},
     "output_type": "display_data"
    },
    {
     "name": "stderr",
     "output_type": "stream",
     "text": [
      "/Users/marinagomtsyan/anaconda3/lib/python3.6/site-packages/ipykernel_launcher.py:5: RuntimeWarning: invalid value encountered in true_divide\n",
      "  \"\"\"\n",
      "/Users/marinagomtsyan/anaconda3/lib/python3.6/site-packages/ipykernel_launcher.py:58: RuntimeWarning: Mean of empty slice.\n",
      "/Users/marinagomtsyan/anaconda3/lib/python3.6/site-packages/numpy/core/_methods.py:80: RuntimeWarning: invalid value encountered in double_scalars\n",
      "  ret = ret.dtype.type(ret / rcount)\n"
     ]
    }
   ],
   "source": [
    "REG_means = []\n",
    "LB_means = []\n",
    "REG_stds = []\n",
    "LB_stds = []\n",
    "for dim in tqdm_notebook(range(1, 101)):\n",
    "    data = gen_sphere_data(1000, dim)\n",
    "    result = reg_reg_reg(data)\n",
    "    \n",
    "    mean = np.mean(result, axis=0)\n",
    "    std = np.std(result, axis=0)\n",
    "    \n",
    "    REG_means.append(mean[0])\n",
    "    LB_means.append(mean[1])\n",
    "    REG_stds.append(std[0])\n",
    "    LB_stds.append(std[1])"
   ]
  },
  {
   "cell_type": "code",
   "execution_count": null,
   "metadata": {
    "collapsed": true
   },
   "outputs": [],
   "source": []
  }
 ],
 "metadata": {
  "kernelspec": {
   "display_name": "Python 3",
   "language": "python",
   "name": "python3"
  },
  "language_info": {
   "codemirror_mode": {
    "name": "ipython",
    "version": 3
   },
   "file_extension": ".py",
   "mimetype": "text/x-python",
   "name": "python",
   "nbconvert_exporter": "python",
   "pygments_lexer": "ipython3",
   "version": "3.6.3"
  }
 },
 "nbformat": 4,
 "nbformat_minor": 2
}
