{
 "cells": [
  {
   "cell_type": "code",
   "execution_count": 1,
   "metadata": {},
   "outputs": [],
   "source": [
    "import numpy as np\n",
    "import torch\n",
    "from torch.distributions.normal import Normal\n",
    "\n",
    "import pyro\n",
    "import pyro.distributions as dist\n",
    "\n",
    "from generation_with_evaluation_period import generative_procedure_with_evaluation_period\n",
    "import kalman_filter"
   ]
  },
  {
   "cell_type": "code",
   "execution_count": 2,
   "metadata": {
    "collapsed": true
   },
   "outputs": [],
   "source": [
    "L = 500\n",
    "L_train = 350\n",
    "S = 7\n",
    "\n",
    "sigma_e = 0.1\n",
    "sigma_u = 0.1\n",
    "sigma_v = 0.0004\n",
    "sigma_w = 0.01\n",
    "sigma_r = 1.\n",
    "sigma_o = 4.\n",
    "\n",
    "mu_0 = 20.\n",
    "delta_0 = 0.\n",
    "\n",
    "gamma_0 = np.array([1,2,4,-1,-3,-2]) / 10\n",
    "p_c = 4 / 350\n",
    "p_a = 10 / 350\n",
    "\n",
    "t_c_fixed = 330 - 1\n",
    "c_fixed = 1.\n",
    "t_r_fixed = 330 - 1\n",
    "r_fixed = 2."
   ]
  },
  {
   "cell_type": "code",
   "execution_count": 3,
   "metadata": {},
   "outputs": [],
   "source": [
    "torch.manual_seed(4)\n",
    "y, _, _, _, _, _, _, _, _ = generative_procedure_with_evaluation_period(mu_0, delta_0, gamma_0, \n",
    "                                                                        sigma_e, sigma_o, sigma_u, \n",
    "                                                                        sigma_r, sigma_v, sigma_w, \n",
    "                                                                        p_a, p_c, L, L_train, S, \n",
    "                                                                        t_c_fixed, c_fixed, t_r_fixed, r_fixed)\n",
    "\n",
    "m = S + 1\n",
    "r = 3\n",
    "n = 100\n",
    "\n",
    "a_1 = kalman_filter.gen_a_1(S, y)\n",
    "P_1 = kalman_filter.gen_P_1(S)\n",
    "\n",
    "Z_t = kalman_filter.gen_Z_t(S)\n",
    "T_t = kalman_filter.gen_T_t(S)\n",
    "R_t = kalman_filter.gen_R_t(S, r)\n",
    "\n",
    "H_e = sigma_e ** 2\n",
    "H_o = sigma_o ** 2\n",
    "\n",
    "Q_eta = kalman_filter.gen_Q_eta(sigma_r, sigma_v, sigma_w)\n",
    "Q_xi = kalman_filter.gen_Q_eta(sigma_u, sigma_v, sigma_w)"
   ]
  },
  {
   "cell_type": "code",
   "execution_count": 4,
   "metadata": {},
   "outputs": [
    {
     "name": "stdout",
     "output_type": "stream",
     "text": [
      "tensor([40163547713553574673709329809408., 11611557203154669101822488084480.,\n",
      "        -5659870926556405726557606248448.,  3292034059641879104389317132288.,\n",
      "          766229953750721650449432182784.,  1187672903705803993814841425920.,\n",
      "           92496047826671166871620812800.,   927346671161039768964107862016.])\n",
      "\n",
      "tensor([[ 2.8501,  1.8405,  1.3916, -0.1933,  0.1200, -0.1254,  0.0418, -0.2882],\n",
      "        [ 1.8405,  1.4855,  0.9846, -0.0492,  0.0965, -0.0411,  0.0428, -0.1071],\n",
      "        [ 1.3916,  0.9846,  1.9327, -0.1803, -0.2005, -0.1160, -0.0595, -0.2541],\n",
      "        [-0.1933, -0.0492, -0.1803,  0.8643, -0.0293, -0.3426, -0.0295, -0.2148],\n",
      "        [ 0.1200,  0.0965, -0.2005, -0.0293,  0.8432, -0.0092, -0.3549, -0.0079],\n",
      "        [-0.1254, -0.0411, -0.1160, -0.3426, -0.0092,  0.8243,  0.0023, -0.3757],\n",
      "        [ 0.0418,  0.0428, -0.0595, -0.0295, -0.3549,  0.0023,  0.8174,  0.0150],\n",
      "        [-0.2882, -0.1071, -0.2541, -0.2148, -0.0079, -0.3757,  0.0150,  0.7952]])\n"
     ]
    }
   ],
   "source": [
    "a_t, P_t = kalman_filter.kalman_filter(n, m, y, a_1, P_1, Z_t, p_a, p_c, T_t, H_e, H_o, Q_eta, Q_xi, R_t)\n",
    "print(a_t)\n",
    "print()\n",
    "print(P_t)"
   ]
  }
 ],
 "metadata": {
  "kernelspec": {
   "display_name": "Python 3",
   "language": "python",
   "name": "python3"
  },
  "language_info": {
   "codemirror_mode": {
    "name": "ipython",
    "version": 3
   },
   "file_extension": ".py",
   "mimetype": "text/x-python",
   "name": "python",
   "nbconvert_exporter": "python",
   "pygments_lexer": "ipython3",
   "version": "3.6.3"
  }
 },
 "nbformat": 4,
 "nbformat_minor": 2
}
